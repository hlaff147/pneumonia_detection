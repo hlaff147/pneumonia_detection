{
 "cells": [
  {
   "cell_type": "code",
   "execution_count": 40,
   "metadata": {},
   "outputs": [],
   "source": [
    "import os\n",
    "import cv2\n",
    "import seaborn as sns\n",
    "import numpy as np \n",
    "import matplotlib.pyplot as plt\n",
    "import tensorflow as tf\n",
    "from tensorflow.keras.callbacks import ModelCheckpoint, ReduceLROnPlateau\n",
    "from tensorflow.keras.preprocessing.image import ImageDataGenerator\n",
    "from tensorflow.keras import layers\n",
    "from tensorflow.keras.layers import add\n",
    "from sklearn.model_selection import train_test_split\n",
    "from sklearn.utils.class_weight import compute_class_weight\n",
    "from sklearn.metrics import classification_report, confusion_matrix\n",
    "\n",
    "np.random.seed(777)\n",
    "tf.random.set_seed(777)"
   ]
  },
  {
   "cell_type": "code",
   "execution_count": 41,
   "metadata": {},
   "outputs": [],
   "source": [
    "BATCH_SIZE = 32\n",
    "IMG_HEIGHT = 240\n",
    "IMG_WIDTH = 240\n",
    "ALPHA = 2e-4\n"
   ]
  },
  {
   "cell_type": "code",
   "execution_count": 42,
   "metadata": {},
   "outputs": [],
   "source": [
    "labels = ['PNEUMONIA', 'NORMAL']\n",
    "def get_data(data_dir, img_width=150, img_height=150):\n",
    "    \"\"\"\n",
    "    Carrega as imagens do diretório especificado, redimensiona e converte em escala de cinza,\n",
    "    e retorna um array numpy contendo as imagens redimensionadas e seus rótulos numéricos.\n",
    "\n",
    "    Args:\n",
    "        data_dir (str): Diretório contendo as pastas 'PNEUMONIA' e 'NORMAL' com as imagens a serem lidas.\n",
    "        img_width (int): Largura das imagens redimensionadas (padrão: 150).\n",
    "        img_height (int): Altura das imagens redimensionadas (padrão: 150).\n",
    "\n",
    "    Returns:\n",
    "        np.array: Array numpy contendo as imagens redimensionadas e seus rótulos numéricos.\n",
    "    \"\"\"\n",
    "    data = [] \n",
    "    exceptions = []\n",
    "    \n",
    "    # Loop pelas classes ('PNEUMONIA' e 'NORMAL')\n",
    "    for i, label in enumerate(labels):\n",
    "        path = os.path.join(data_dir, label)\n",
    "        \n",
    "        # Loop pelas imagens dentro da classe\n",
    "        for img in os.listdir(path):\n",
    "            try:\n",
    "                # Carrega a imagem em escala de cinza e redimensiona\n",
    "                img_arr = cv2.imread(os.path.join(path, img), cv2.IMREAD_GRAYSCALE) \n",
    "                resized_arr = cv2.resize(img_arr, (img_width, img_height))\n",
    "                \n",
    "                # Adiciona a imagem redimensionada e o rótulo numérico ao array de dados\n",
    "                data.append([resized_arr, i])\n",
    "            except Exception as e:\n",
    "                exceptions.append((os.path.join(path, img), e))\n",
    "    \n",
    "    # Imprime a quantidade de imagens lidas e a quantidade de exceções ocorridas\n",
    "    print(f\"Leitura concluída. {len(data)} imagens lidas e {len(exceptions)} exceções.\")\n",
    "    \n",
    "    return np.array(data)"
   ]
  },
  {
   "cell_type": "code",
   "execution_count": 43,
   "metadata": {},
   "outputs": [
    {
     "name": "stderr",
     "output_type": "stream",
     "text": [
      "C:\\Users\\betin\\AppData\\Local\\Temp\\ipykernel_22140\\2126597077.py:15: VisibleDeprecationWarning: Creating an ndarray from ragged nested sequences (which is a list-or-tuple of lists-or-tuples-or ndarrays with different lengths or shapes) is deprecated. If you meant to do this, you must specify 'dtype=object' when creating the ndarray.\n",
      "  return np.array(data)\n"
     ]
    }
   ],
   "source": [
    "train = get_data('./archive/chest_xray/train')\n",
    "test = get_data('./archive/chest_xray/test')\n",
    "val = get_data('./archive/chest_xray/val')"
   ]
  },
  {
   "cell_type": "code",
   "execution_count": 44,
   "metadata": {},
   "outputs": [
    {
     "name": "stdout",
     "output_type": "stream",
     "text": [
      "1341 PNEUMONIA IMAGES IN TRAINING SET\n",
      "3875 NORMAL IMAGES IN TRAINING SET\n"
     ]
    }
   ],
   "source": [
    "from collections import Counter\n",
    "\n",
    "# Constantes para os rótulos numéricos de cada classe\n",
    "PNEUMONIA = 1\n",
    "NORMAL = 0\n",
    "\n",
    "# Imprime a quantidade de imagens de cada classe no conjunto de treinamento\n",
    "train_labels = [y for _, y in train]\n",
    "train_label_counts = Counter(train_labels)\n",
    "\n",
    "print(f\"{train_label_counts[PNEUMONIA]} PNEUMONIA IMAGES IN TRAINING SET\")\n",
    "print(f\"{train_label_counts[NORMAL]} NORMAL IMAGES IN TRAINING SET\")\n"
   ]
  },
  {
   "cell_type": "code",
   "execution_count": 45,
   "metadata": {},
   "outputs": [
    {
     "name": "stdout",
     "output_type": "stream",
     "text": [
      "Images in TRAINING SET: 5216\n",
      "Images in VALIDATION SET: 16\n",
      "Images in TEST SET: 624\n"
     ]
    }
   ],
   "source": [
    "# Imprime o número de imagens em cada conjunto de dados\n",
    "print(f'Training images: {train.shape[0]}')\n",
    "print(f'Validation images: {val.shape[0]}')\n",
    "print(f'Test images: {test.shape[0]}')\n"
   ]
  },
  {
   "cell_type": "code",
   "execution_count": 46,
   "metadata": {},
   "outputs": [],
   "source": [
    "train = np.append(train, val, axis=0)\n",
    "train, val = train_test_split(train, test_size=.20, random_state=777)"
   ]
  },
  {
   "cell_type": "code",
   "execution_count": 47,
   "metadata": {},
   "outputs": [],
   "source": [
    "def prepare_data(data):\n",
    "    # Separa as features e os rótulos em duas listas distintas\n",
    "    x, y = map(list, zip(*data))\n",
    "    \n",
    "    # Normaliza as features\n",
    "    x = (np.array(x) / 255).reshape(-1, IMG_WIDTH, IMG_HEIGHT, 1)\n",
    "    y = np.array(y)\n",
    "        \n",
    "    return x, y\n",
    "\n",
    "x_train, y_train = prepare_data(train)\n",
    "x_val, y_val = prepare_data(val)\n",
    "x_test, y_test = prepare_data(test)"
   ]
  },
  {
   "cell_type": "code",
   "execution_count": 48,
   "metadata": {},
   "outputs": [],
   "source": [
    "datagen = ImageDataGenerator(\n",
    "    rotation_range = 20, \n",
    "    zoom_range = 0.2, \n",
    "    width_shift_range=0.15,  \n",
    "    height_shift_range=0.15,\n",
    "    horizontal_flip = False,  \n",
    "    vertical_flip=False)\n",
    "\n",
    "\n",
    "datagen.fit(x_train)"
   ]
  },
  {
   "cell_type": "code",
   "execution_count": 49,
   "metadata": {},
   "outputs": [
    {
     "name": "stdout",
     "output_type": "stream",
     "text": [
      "{0: 0.6774036905147297, 1: 1.9092153284671534}\n"
     ]
    }
   ],
   "source": [
    "weights = compute_class_weight(\n",
    "                                        class_weight = \"balanced\",\n",
    "                                        classes = np.unique(y_train),\n",
    "                                        y = y_train\n",
    "                                    )\n",
    "weights = {0: weights[0], 1: weights[1]}\n",
    "print(weights)"
   ]
  },
  {
   "cell_type": "code",
   "execution_count": 50,
   "metadata": {},
   "outputs": [],
   "source": [
    "def block(inputs, filters, stride):\n",
    "    conv_0 = layers.Conv2D(filters=filters, kernel_size=(3, 3), strides=(stride, stride), padding='same', activation='relu')(inputs)\n",
    "    conv_1 = layers.Conv2D(filters=filters, kernel_size=(3, 3), strides=(stride, stride), padding='same', activation='relu')(conv_0)\n",
    "    \n",
    "    skip = layers.Conv2D(input_shape=input_size, filters=filters, kernel_size=(1, 1), strides=(stride**2, stride**2), padding='same', activation='relu')(inputs)\n",
    "    \n",
    "    pool = layers.MaxPool2D(pool_size=(3, 3), strides=(2,2), padding='same')(add([conv_1, skip]))\n",
    "    \n",
    "    return pool"
   ]
  },
  {
   "cell_type": "code",
   "execution_count": 51,
   "metadata": {},
   "outputs": [],
   "source": [
    "input_size = (IMG_HEIGHT, IMG_WIDTH, 1)\n",
    "\n",
    "inputs = tf.keras.Input(shape=input_size, name='input')\n",
    "\n",
    "y_0 = block(inputs, 16, 2)\n",
    "y_1 = block(y_0, 32, 1)\n",
    "y_2 = block(y_1, 48, 1)\n",
    "y_3 = block(y_2, 64, 1)\n",
    "y_4 = block(y_3, 80, 1)\n",
    "\n",
    "gap = layers.GlobalMaxPooling2D()(y_4)\n",
    "dense = layers.Dense(2, activation='relu')(gap)\n",
    "\n",
    "outputs = layers.Dense(1, activation='sigmoid')(dense)"
   ]
  },
  {
   "cell_type": "code",
   "execution_count": 52,
   "metadata": {},
   "outputs": [
    {
     "name": "stdout",
     "output_type": "stream",
     "text": [
      "Model: \"pneumonia_wnet\"\n",
      "__________________________________________________________________________________________________\n",
      " Layer (type)                   Output Shape         Param #     Connected to                     \n",
      "==================================================================================================\n",
      " input (InputLayer)             [(None, 240, 240, 1  0           []                               \n",
      "                                )]                                                                \n",
      "                                                                                                  \n",
      " conv2d_15 (Conv2D)             (None, 120, 120, 16  160         ['input[0][0]']                  \n",
      "                                )                                                                 \n",
      "                                                                                                  \n",
      " conv2d_16 (Conv2D)             (None, 60, 60, 16)   2320        ['conv2d_15[0][0]']              \n",
      "                                                                                                  \n",
      " conv2d_17 (Conv2D)             (None, 60, 60, 16)   32          ['input[0][0]']                  \n",
      "                                                                                                  \n",
      " add_5 (Add)                    (None, 60, 60, 16)   0           ['conv2d_16[0][0]',              \n",
      "                                                                  'conv2d_17[0][0]']              \n",
      "                                                                                                  \n",
      " max_pooling2d_5 (MaxPooling2D)  (None, 30, 30, 16)  0           ['add_5[0][0]']                  \n",
      "                                                                                                  \n",
      " conv2d_18 (Conv2D)             (None, 30, 30, 32)   4640        ['max_pooling2d_5[0][0]']        \n",
      "                                                                                                  \n",
      " conv2d_19 (Conv2D)             (None, 30, 30, 32)   9248        ['conv2d_18[0][0]']              \n",
      "                                                                                                  \n",
      " conv2d_20 (Conv2D)             (None, 30, 30, 32)   544         ['max_pooling2d_5[0][0]']        \n",
      "                                                                                                  \n",
      " add_6 (Add)                    (None, 30, 30, 32)   0           ['conv2d_19[0][0]',              \n",
      "                                                                  'conv2d_20[0][0]']              \n",
      "                                                                                                  \n",
      " max_pooling2d_6 (MaxPooling2D)  (None, 15, 15, 32)  0           ['add_6[0][0]']                  \n",
      "                                                                                                  \n",
      " conv2d_21 (Conv2D)             (None, 15, 15, 48)   13872       ['max_pooling2d_6[0][0]']        \n",
      "                                                                                                  \n",
      " conv2d_22 (Conv2D)             (None, 15, 15, 48)   20784       ['conv2d_21[0][0]']              \n",
      "                                                                                                  \n",
      " conv2d_23 (Conv2D)             (None, 15, 15, 48)   1584        ['max_pooling2d_6[0][0]']        \n",
      "                                                                                                  \n",
      " add_7 (Add)                    (None, 15, 15, 48)   0           ['conv2d_22[0][0]',              \n",
      "                                                                  'conv2d_23[0][0]']              \n",
      "                                                                                                  \n",
      " max_pooling2d_7 (MaxPooling2D)  (None, 8, 8, 48)    0           ['add_7[0][0]']                  \n",
      "                                                                                                  \n",
      " conv2d_24 (Conv2D)             (None, 8, 8, 64)     27712       ['max_pooling2d_7[0][0]']        \n",
      "                                                                                                  \n",
      " conv2d_25 (Conv2D)             (None, 8, 8, 64)     36928       ['conv2d_24[0][0]']              \n",
      "                                                                                                  \n",
      " conv2d_26 (Conv2D)             (None, 8, 8, 64)     3136        ['max_pooling2d_7[0][0]']        \n",
      "                                                                                                  \n",
      " add_8 (Add)                    (None, 8, 8, 64)     0           ['conv2d_25[0][0]',              \n",
      "                                                                  'conv2d_26[0][0]']              \n",
      "                                                                                                  \n",
      " max_pooling2d_8 (MaxPooling2D)  (None, 4, 4, 64)    0           ['add_8[0][0]']                  \n",
      "                                                                                                  \n",
      " conv2d_27 (Conv2D)             (None, 4, 4, 80)     46160       ['max_pooling2d_8[0][0]']        \n",
      "                                                                                                  \n",
      " conv2d_28 (Conv2D)             (None, 4, 4, 80)     57680       ['conv2d_27[0][0]']              \n",
      "                                                                                                  \n",
      " conv2d_29 (Conv2D)             (None, 4, 4, 80)     5200        ['max_pooling2d_8[0][0]']        \n",
      "                                                                                                  \n",
      " add_9 (Add)                    (None, 4, 4, 80)     0           ['conv2d_28[0][0]',              \n",
      "                                                                  'conv2d_29[0][0]']              \n",
      "                                                                                                  \n",
      " max_pooling2d_9 (MaxPooling2D)  (None, 2, 2, 80)    0           ['add_9[0][0]']                  \n",
      "                                                                                                  \n",
      " global_max_pooling2d_1 (Global  (None, 80)          0           ['max_pooling2d_9[0][0]']        \n",
      " MaxPooling2D)                                                                                    \n",
      "                                                                                                  \n",
      " dense_2 (Dense)                (None, 2)            162         ['global_max_pooling2d_1[0][0]'] \n",
      "                                                                                                  \n",
      " dense_3 (Dense)                (None, 1)            3           ['dense_2[0][0]']                \n",
      "                                                                                                  \n",
      "==================================================================================================\n",
      "Total params: 230,165\n",
      "Trainable params: 230,165\n",
      "Non-trainable params: 0\n",
      "__________________________________________________________________________________________________\n"
     ]
    }
   ],
   "source": [
    "model = tf.keras.Model(inputs=inputs, outputs=outputs, name=\"pneumonia_wnet\")\n",
    "model.summary()"
   ]
  },
  {
   "cell_type": "code",
   "execution_count": 53,
   "metadata": {},
   "outputs": [],
   "source": [
    "lr_reduce = ReduceLROnPlateau(monitor='val_acc', factor=0.7, min_delta=ALPHA, patience=7, verbose=1)\n",
    "early_stopping_cb = tf.keras.callbacks.EarlyStopping(patience=7, restore_best_weights=True)"
   ]
  },
  {
   "cell_type": "code",
   "execution_count": 54,
   "metadata": {},
   "outputs": [],
   "source": [
    "CALLBACKS = [lr_reduce, early_stopping_cb]"
   ]
  },
  {
   "cell_type": "code",
   "execution_count": 55,
   "metadata": {},
   "outputs": [],
   "source": [
    "METRICS = ['accuracy',\n",
    "          tf.keras.metrics.Precision(name='precision'),\n",
    "          tf.keras.metrics.Recall(name='recall')]"
   ]
  },
  {
   "cell_type": "code",
   "execution_count": 56,
   "metadata": {},
   "outputs": [
    {
     "name": "stderr",
     "output_type": "stream",
     "text": [
      "WARNING:absl:`lr` is deprecated in Keras optimizer, please use `learning_rate` or use the legacy optimizer, e.g.,tf.keras.optimizers.legacy.Adam.\n"
     ]
    }
   ],
   "source": [
    "model.compile(\n",
    "    optimizer=tf.keras.optimizers.Adam(lr=ALPHA),\n",
    "    loss='binary_crossentropy', \n",
    "    metrics=METRICS\n",
    ")"
   ]
  },
  {
   "cell_type": "code",
   "execution_count": 57,
   "metadata": {},
   "outputs": [
    {
     "name": "stdout",
     "output_type": "stream",
     "text": [
      "Epoch 1/30\n",
      "131/130 [==============================] - ETA: 0s - loss: 0.6892 - accuracy: 0.3694 - precision: 0.2696 - recall: 0.8239WARNING:tensorflow:Learning rate reduction is conditioned on metric `val_acc` which is not available. Available metrics are: loss,accuracy,precision,recall,val_loss,val_accuracy,val_precision,val_recall,lr\n"
     ]
    },
    {
     "name": "stderr",
     "output_type": "stream",
     "text": [
      "WARNING:tensorflow:Learning rate reduction is conditioned on metric `val_acc` which is not available. Available metrics are: loss,accuracy,precision,recall,val_loss,val_accuracy,val_precision,val_recall,lr\n"
     ]
    },
    {
     "name": "stdout",
     "output_type": "stream",
     "text": [
      "130/130 [==============================] - 65s 470ms/step - loss: 0.6892 - accuracy: 0.3694 - precision: 0.2696 - recall: 0.8239 - val_loss: 0.7178 - val_accuracy: 0.2416 - val_precision: 0.2416 - val_recall: 1.0000 - lr: 0.0010\n",
      "Epoch 2/30\n",
      "131/130 [==============================] - ETA: 0s - loss: 0.5582 - accuracy: 0.7642 - precision: 0.5320 - recall: 0.8266WARNING:tensorflow:Learning rate reduction is conditioned on metric `val_acc` which is not available. Available metrics are: loss,accuracy,precision,recall,val_loss,val_accuracy,val_precision,val_recall,lr\n"
     ]
    },
    {
     "name": "stderr",
     "output_type": "stream",
     "text": [
      "WARNING:tensorflow:Learning rate reduction is conditioned on metric `val_acc` which is not available. Available metrics are: loss,accuracy,precision,recall,val_loss,val_accuracy,val_precision,val_recall,lr\n"
     ]
    },
    {
     "name": "stdout",
     "output_type": "stream",
     "text": [
      "130/130 [==============================] - 57s 434ms/step - loss: 0.5582 - accuracy: 0.7642 - precision: 0.5320 - recall: 0.8266 - val_loss: 0.5956 - val_accuracy: 0.8997 - val_precision: 0.7242 - val_recall: 0.9447 - lr: 0.0010\n",
      "Epoch 3/30\n",
      "131/130 [==============================] - ETA: 0s - loss: 0.4609 - accuracy: 0.8650 - precision: 0.6790 - recall: 0.9188WARNING:tensorflow:Learning rate reduction is conditioned on metric `val_acc` which is not available. Available metrics are: loss,accuracy,precision,recall,val_loss,val_accuracy,val_precision,val_recall,lr\n"
     ]
    },
    {
     "name": "stderr",
     "output_type": "stream",
     "text": [
      "WARNING:tensorflow:Learning rate reduction is conditioned on metric `val_acc` which is not available. Available metrics are: loss,accuracy,precision,recall,val_loss,val_accuracy,val_precision,val_recall,lr\n"
     ]
    },
    {
     "name": "stdout",
     "output_type": "stream",
     "text": [
      "130/130 [==============================] - 56s 429ms/step - loss: 0.4609 - accuracy: 0.8650 - precision: 0.6790 - recall: 0.9188 - val_loss: 0.4928 - val_accuracy: 0.9446 - val_precision: 0.8470 - val_recall: 0.9407 - lr: 0.0010\n",
      "Epoch 4/30\n",
      "131/130 [==============================] - ETA: 0s - loss: 0.4065 - accuracy: 0.8920 - precision: 0.7357 - recall: 0.9170WARNING:tensorflow:Learning rate reduction is conditioned on metric `val_acc` which is not available. Available metrics are: loss,accuracy,precision,recall,val_loss,val_accuracy,val_precision,val_recall,lr\n"
     ]
    },
    {
     "name": "stderr",
     "output_type": "stream",
     "text": [
      "WARNING:tensorflow:Learning rate reduction is conditioned on metric `val_acc` which is not available. Available metrics are: loss,accuracy,precision,recall,val_loss,val_accuracy,val_precision,val_recall,lr\n"
     ]
    },
    {
     "name": "stdout",
     "output_type": "stream",
     "text": [
      "130/130 [==============================] - 57s 435ms/step - loss: 0.4065 - accuracy: 0.8920 - precision: 0.7357 - recall: 0.9170 - val_loss: 0.5044 - val_accuracy: 0.9179 - val_precision: 0.7601 - val_recall: 0.9644 - lr: 0.0010\n",
      "Epoch 5/30\n",
      "131/130 [==============================] - ETA: 0s - loss: 0.3822 - accuracy: 0.9061 - precision: 0.7723 - recall: 0.9097WARNING:tensorflow:Learning rate reduction is conditioned on metric `val_acc` which is not available. Available metrics are: loss,accuracy,precision,recall,val_loss,val_accuracy,val_precision,val_recall,lr\n"
     ]
    },
    {
     "name": "stderr",
     "output_type": "stream",
     "text": [
      "WARNING:tensorflow:Learning rate reduction is conditioned on metric `val_acc` which is not available. Available metrics are: loss,accuracy,precision,recall,val_loss,val_accuracy,val_precision,val_recall,lr\n"
     ]
    },
    {
     "name": "stdout",
     "output_type": "stream",
     "text": [
      "130/130 [==============================] - 67s 514ms/step - loss: 0.3822 - accuracy: 0.9061 - precision: 0.7723 - recall: 0.9097 - val_loss: 0.5207 - val_accuracy: 0.8863 - val_precision: 0.6811 - val_recall: 0.9960 - lr: 0.0010\n",
      "Epoch 6/30\n",
      "131/130 [==============================] - ETA: 0s - loss: 0.3479 - accuracy: 0.9195 - precision: 0.7976 - recall: 0.9279WARNING:tensorflow:Learning rate reduction is conditioned on metric `val_acc` which is not available. Available metrics are: loss,accuracy,precision,recall,val_loss,val_accuracy,val_precision,val_recall,lr\n"
     ]
    },
    {
     "name": "stderr",
     "output_type": "stream",
     "text": [
      "WARNING:tensorflow:Learning rate reduction is conditioned on metric `val_acc` which is not available. Available metrics are: loss,accuracy,precision,recall,val_loss,val_accuracy,val_precision,val_recall,lr\n"
     ]
    },
    {
     "name": "stdout",
     "output_type": "stream",
     "text": [
      "130/130 [==============================] - 60s 451ms/step - loss: 0.3479 - accuracy: 0.9195 - precision: 0.7976 - recall: 0.9279 - val_loss: 0.5868 - val_accuracy: 0.8185 - val_precision: 0.5724 - val_recall: 0.9842 - lr: 0.0010\n",
      "Epoch 7/30\n",
      "131/130 [==============================] - ETA: 0s - loss: 0.3221 - accuracy: 0.9293 - precision: 0.8273 - recall: 0.9224WARNING:tensorflow:Learning rate reduction is conditioned on metric `val_acc` which is not available. Available metrics are: loss,accuracy,precision,recall,val_loss,val_accuracy,val_precision,val_recall,lr\n"
     ]
    },
    {
     "name": "stderr",
     "output_type": "stream",
     "text": [
      "WARNING:tensorflow:Learning rate reduction is conditioned on metric `val_acc` which is not available. Available metrics are: loss,accuracy,precision,recall,val_loss,val_accuracy,val_precision,val_recall,lr\n"
     ]
    },
    {
     "name": "stdout",
     "output_type": "stream",
     "text": [
      "130/130 [==============================] - 54s 413ms/step - loss: 0.3221 - accuracy: 0.9293 - precision: 0.8273 - recall: 0.9224 - val_loss: 0.5634 - val_accuracy: 0.8319 - val_precision: 0.5897 - val_recall: 1.0000 - lr: 0.0010\n",
      "Epoch 8/30\n",
      "131/130 [==============================] - ETA: 0s - loss: 0.3096 - accuracy: 0.9293 - precision: 0.8155 - recall: 0.9434WARNING:tensorflow:Learning rate reduction is conditioned on metric `val_acc` which is not available. Available metrics are: loss,accuracy,precision,recall,val_loss,val_accuracy,val_precision,val_recall,lr\n"
     ]
    },
    {
     "name": "stderr",
     "output_type": "stream",
     "text": [
      "WARNING:tensorflow:Learning rate reduction is conditioned on metric `val_acc` which is not available. Available metrics are: loss,accuracy,precision,recall,val_loss,val_accuracy,val_precision,val_recall,lr\n"
     ]
    },
    {
     "name": "stdout",
     "output_type": "stream",
     "text": [
      "130/130 [==============================] - 53s 407ms/step - loss: 0.3096 - accuracy: 0.9293 - precision: 0.8155 - recall: 0.9434 - val_loss: 0.3691 - val_accuracy: 0.9379 - val_precision: 0.8052 - val_recall: 0.9802 - lr: 0.0010\n",
      "Epoch 9/30\n",
      "131/130 [==============================] - ETA: 0s - loss: 0.2974 - accuracy: 0.9321 - precision: 0.8290 - recall: 0.9334WARNING:tensorflow:Learning rate reduction is conditioned on metric `val_acc` which is not available. Available metrics are: loss,accuracy,precision,recall,val_loss,val_accuracy,val_precision,val_recall,lr\n"
     ]
    },
    {
     "name": "stderr",
     "output_type": "stream",
     "text": [
      "WARNING:tensorflow:Learning rate reduction is conditioned on metric `val_acc` which is not available. Available metrics are: loss,accuracy,precision,recall,val_loss,val_accuracy,val_precision,val_recall,lr\n"
     ]
    },
    {
     "name": "stdout",
     "output_type": "stream",
     "text": [
      "130/130 [==============================] - 54s 410ms/step - loss: 0.2974 - accuracy: 0.9321 - precision: 0.8290 - recall: 0.9334 - val_loss: 0.3364 - val_accuracy: 0.9456 - val_precision: 0.8356 - val_recall: 0.9644 - lr: 0.0010\n",
      "Epoch 10/30\n",
      "131/130 [==============================] - ETA: 0s - loss: 0.2719 - accuracy: 0.9395 - precision: 0.8452 - recall: 0.9416WARNING:tensorflow:Learning rate reduction is conditioned on metric `val_acc` which is not available. Available metrics are: loss,accuracy,precision,recall,val_loss,val_accuracy,val_precision,val_recall,lr\n"
     ]
    },
    {
     "name": "stderr",
     "output_type": "stream",
     "text": [
      "WARNING:tensorflow:Learning rate reduction is conditioned on metric `val_acc` which is not available. Available metrics are: loss,accuracy,precision,recall,val_loss,val_accuracy,val_precision,val_recall,lr\n"
     ]
    },
    {
     "name": "stdout",
     "output_type": "stream",
     "text": [
      "130/130 [==============================] - 54s 415ms/step - loss: 0.2719 - accuracy: 0.9395 - precision: 0.8452 - recall: 0.9416 - val_loss: 0.3886 - val_accuracy: 0.9160 - val_precision: 0.7434 - val_recall: 0.9960 - lr: 0.0010\n",
      "Epoch 11/30\n",
      "131/130 [==============================] - ETA: 0s - loss: 0.2628 - accuracy: 0.9369 - precision: 0.8432 - recall: 0.9325WARNING:tensorflow:Learning rate reduction is conditioned on metric `val_acc` which is not available. Available metrics are: loss,accuracy,precision,recall,val_loss,val_accuracy,val_precision,val_recall,lr\n"
     ]
    },
    {
     "name": "stderr",
     "output_type": "stream",
     "text": [
      "WARNING:tensorflow:Learning rate reduction is conditioned on metric `val_acc` which is not available. Available metrics are: loss,accuracy,precision,recall,val_loss,val_accuracy,val_precision,val_recall,lr\n"
     ]
    },
    {
     "name": "stdout",
     "output_type": "stream",
     "text": [
      "130/130 [==============================] - 59s 449ms/step - loss: 0.2628 - accuracy: 0.9369 - precision: 0.8432 - recall: 0.9325 - val_loss: 0.3325 - val_accuracy: 0.9341 - val_precision: 0.8007 - val_recall: 0.9684 - lr: 0.0010\n",
      "Epoch 12/30\n",
      "131/130 [==============================] - ETA: 0s - loss: 0.2588 - accuracy: 0.9374 - precision: 0.8441 - recall: 0.9334WARNING:tensorflow:Learning rate reduction is conditioned on metric `val_acc` which is not available. Available metrics are: loss,accuracy,precision,recall,val_loss,val_accuracy,val_precision,val_recall,lr\n"
     ]
    },
    {
     "name": "stderr",
     "output_type": "stream",
     "text": [
      "WARNING:tensorflow:Learning rate reduction is conditioned on metric `val_acc` which is not available. Available metrics are: loss,accuracy,precision,recall,val_loss,val_accuracy,val_precision,val_recall,lr\n"
     ]
    },
    {
     "name": "stdout",
     "output_type": "stream",
     "text": [
      "130/130 [==============================] - 56s 428ms/step - loss: 0.2588 - accuracy: 0.9374 - precision: 0.8441 - recall: 0.9334 - val_loss: 0.3156 - val_accuracy: 0.9427 - val_precision: 0.8271 - val_recall: 0.9644 - lr: 0.0010\n",
      "Epoch 13/30\n",
      "131/130 [==============================] - ETA: 0s - loss: 0.2377 - accuracy: 0.9450 - precision: 0.8543 - recall: 0.9526WARNING:tensorflow:Learning rate reduction is conditioned on metric `val_acc` which is not available. Available metrics are: loss,accuracy,precision,recall,val_loss,val_accuracy,val_precision,val_recall,lr\n"
     ]
    },
    {
     "name": "stderr",
     "output_type": "stream",
     "text": [
      "WARNING:tensorflow:Learning rate reduction is conditioned on metric `val_acc` which is not available. Available metrics are: loss,accuracy,precision,recall,val_loss,val_accuracy,val_precision,val_recall,lr\n"
     ]
    },
    {
     "name": "stdout",
     "output_type": "stream",
     "text": [
      "130/130 [==============================] - 55s 421ms/step - loss: 0.2377 - accuracy: 0.9450 - precision: 0.8543 - recall: 0.9526 - val_loss: 0.3074 - val_accuracy: 0.9370 - val_precision: 0.8006 - val_recall: 0.9842 - lr: 0.0010\n",
      "Epoch 14/30\n",
      "131/130 [==============================] - ETA: 0s - loss: 0.2375 - accuracy: 0.9405 - precision: 0.8429 - recall: 0.9498WARNING:tensorflow:Learning rate reduction is conditioned on metric `val_acc` which is not available. Available metrics are: loss,accuracy,precision,recall,val_loss,val_accuracy,val_precision,val_recall,lr\n"
     ]
    },
    {
     "name": "stderr",
     "output_type": "stream",
     "text": [
      "WARNING:tensorflow:Learning rate reduction is conditioned on metric `val_acc` which is not available. Available metrics are: loss,accuracy,precision,recall,val_loss,val_accuracy,val_precision,val_recall,lr\n"
     ]
    },
    {
     "name": "stdout",
     "output_type": "stream",
     "text": [
      "130/130 [==============================] - 71s 542ms/step - loss: 0.2375 - accuracy: 0.9405 - precision: 0.8429 - recall: 0.9498 - val_loss: 0.3690 - val_accuracy: 0.8930 - val_precision: 0.6964 - val_recall: 0.9881 - lr: 0.0010\n",
      "Epoch 15/30\n",
      "131/130 [==============================] - ETA: 0s - loss: 0.2241 - accuracy: 0.9429 - precision: 0.8538 - recall: 0.9434WARNING:tensorflow:Learning rate reduction is conditioned on metric `val_acc` which is not available. Available metrics are: loss,accuracy,precision,recall,val_loss,val_accuracy,val_precision,val_recall,lr\n"
     ]
    },
    {
     "name": "stderr",
     "output_type": "stream",
     "text": [
      "WARNING:tensorflow:Learning rate reduction is conditioned on metric `val_acc` which is not available. Available metrics are: loss,accuracy,precision,recall,val_loss,val_accuracy,val_precision,val_recall,lr\n"
     ]
    },
    {
     "name": "stdout",
     "output_type": "stream",
     "text": [
      "130/130 [==============================] - 74s 562ms/step - loss: 0.2241 - accuracy: 0.9429 - precision: 0.8538 - recall: 0.9434 - val_loss: 0.3681 - val_accuracy: 0.9131 - val_precision: 0.7440 - val_recall: 0.9763 - lr: 0.0010\n",
      "Epoch 16/30\n",
      "131/130 [==============================] - ETA: 0s - loss: 0.2151 - accuracy: 0.9436 - precision: 0.8566 - recall: 0.9425WARNING:tensorflow:Learning rate reduction is conditioned on metric `val_acc` which is not available. Available metrics are: loss,accuracy,precision,recall,val_loss,val_accuracy,val_precision,val_recall,lr\n"
     ]
    },
    {
     "name": "stderr",
     "output_type": "stream",
     "text": [
      "WARNING:tensorflow:Learning rate reduction is conditioned on metric `val_acc` which is not available. Available metrics are: loss,accuracy,precision,recall,val_loss,val_accuracy,val_precision,val_recall,lr\n"
     ]
    },
    {
     "name": "stdout",
     "output_type": "stream",
     "text": [
      "130/130 [==============================] - 70s 535ms/step - loss: 0.2151 - accuracy: 0.9436 - precision: 0.8566 - recall: 0.9425 - val_loss: 0.2273 - val_accuracy: 0.9561 - val_precision: 0.8657 - val_recall: 0.9684 - lr: 0.0010\n",
      "Epoch 17/30\n",
      "131/130 [==============================] - ETA: 0s - loss: 0.2075 - accuracy: 0.9477 - precision: 0.8669 - recall: 0.9453WARNING:tensorflow:Learning rate reduction is conditioned on metric `val_acc` which is not available. Available metrics are: loss,accuracy,precision,recall,val_loss,val_accuracy,val_precision,val_recall,lr\n"
     ]
    },
    {
     "name": "stderr",
     "output_type": "stream",
     "text": [
      "WARNING:tensorflow:Learning rate reduction is conditioned on metric `val_acc` which is not available. Available metrics are: loss,accuracy,precision,recall,val_loss,val_accuracy,val_precision,val_recall,lr\n"
     ]
    },
    {
     "name": "stdout",
     "output_type": "stream",
     "text": [
      "130/130 [==============================] - 70s 537ms/step - loss: 0.2075 - accuracy: 0.9477 - precision: 0.8669 - recall: 0.9453 - val_loss: 0.2507 - val_accuracy: 0.9503 - val_precision: 0.8478 - val_recall: 0.9684 - lr: 0.0010\n",
      "Epoch 18/30\n",
      "131/130 [==============================] - ETA: 0s - loss: 0.2060 - accuracy: 0.9493 - precision: 0.8765 - recall: 0.9389WARNING:tensorflow:Learning rate reduction is conditioned on metric `val_acc` which is not available. Available metrics are: loss,accuracy,precision,recall,val_loss,val_accuracy,val_precision,val_recall,lr\n"
     ]
    },
    {
     "name": "stderr",
     "output_type": "stream",
     "text": [
      "WARNING:tensorflow:Learning rate reduction is conditioned on metric `val_acc` which is not available. Available metrics are: loss,accuracy,precision,recall,val_loss,val_accuracy,val_precision,val_recall,lr\n"
     ]
    },
    {
     "name": "stdout",
     "output_type": "stream",
     "text": [
      "130/130 [==============================] - 81s 616ms/step - loss: 0.2060 - accuracy: 0.9493 - precision: 0.8765 - recall: 0.9389 - val_loss: 0.4799 - val_accuracy: 0.8701 - val_precision: 0.6504 - val_recall: 1.0000 - lr: 0.0010\n",
      "Epoch 19/30\n",
      "131/130 [==============================] - ETA: 0s - loss: 0.1974 - accuracy: 0.9472 - precision: 0.8661 - recall: 0.9443WARNING:tensorflow:Learning rate reduction is conditioned on metric `val_acc` which is not available. Available metrics are: loss,accuracy,precision,recall,val_loss,val_accuracy,val_precision,val_recall,lr\n"
     ]
    },
    {
     "name": "stderr",
     "output_type": "stream",
     "text": [
      "WARNING:tensorflow:Learning rate reduction is conditioned on metric `val_acc` which is not available. Available metrics are: loss,accuracy,precision,recall,val_loss,val_accuracy,val_precision,val_recall,lr\n"
     ]
    },
    {
     "name": "stdout",
     "output_type": "stream",
     "text": [
      "130/130 [==============================] - 74s 565ms/step - loss: 0.1974 - accuracy: 0.9472 - precision: 0.8661 - recall: 0.9443 - val_loss: 0.2713 - val_accuracy: 0.9360 - val_precision: 0.7943 - val_recall: 0.9921 - lr: 0.0010\n",
      "Epoch 20/30\n",
      "131/130 [==============================] - ETA: 0s - loss: 0.1864 - accuracy: 0.9527 - precision: 0.8779 - recall: 0.9516WARNING:tensorflow:Learning rate reduction is conditioned on metric `val_acc` which is not available. Available metrics are: loss,accuracy,precision,recall,val_loss,val_accuracy,val_precision,val_recall,lr\n"
     ]
    },
    {
     "name": "stderr",
     "output_type": "stream",
     "text": [
      "WARNING:tensorflow:Learning rate reduction is conditioned on metric `val_acc` which is not available. Available metrics are: loss,accuracy,precision,recall,val_loss,val_accuracy,val_precision,val_recall,lr\n"
     ]
    },
    {
     "name": "stdout",
     "output_type": "stream",
     "text": [
      "130/130 [==============================] - 76s 581ms/step - loss: 0.1864 - accuracy: 0.9527 - precision: 0.8779 - recall: 0.9516 - val_loss: 0.2533 - val_accuracy: 0.9398 - val_precision: 0.8045 - val_recall: 0.9921 - lr: 0.0010\n",
      "Epoch 21/30\n",
      "131/130 [==============================] - ETA: 0s - loss: 0.1869 - accuracy: 0.9510 - precision: 0.8747 - recall: 0.9489WARNING:tensorflow:Learning rate reduction is conditioned on metric `val_acc` which is not available. Available metrics are: loss,accuracy,precision,recall,val_loss,val_accuracy,val_precision,val_recall,lr\n"
     ]
    },
    {
     "name": "stderr",
     "output_type": "stream",
     "text": [
      "WARNING:tensorflow:Learning rate reduction is conditioned on metric `val_acc` which is not available. Available metrics are: loss,accuracy,precision,recall,val_loss,val_accuracy,val_precision,val_recall,lr\n"
     ]
    },
    {
     "name": "stdout",
     "output_type": "stream",
     "text": [
      "130/130 [==============================] - 61s 468ms/step - loss: 0.1869 - accuracy: 0.9510 - precision: 0.8747 - recall: 0.9489 - val_loss: 0.2062 - val_accuracy: 0.9532 - val_precision: 0.8592 - val_recall: 0.9644 - lr: 0.0010\n",
      "Epoch 22/30\n",
      "131/130 [==============================] - ETA: 0s - loss: 0.1750 - accuracy: 0.9534 - precision: 0.8776 - recall: 0.9553WARNING:tensorflow:Learning rate reduction is conditioned on metric `val_acc` which is not available. Available metrics are: loss,accuracy,precision,recall,val_loss,val_accuracy,val_precision,val_recall,lr\n"
     ]
    },
    {
     "name": "stderr",
     "output_type": "stream",
     "text": [
      "WARNING:tensorflow:Learning rate reduction is conditioned on metric `val_acc` which is not available. Available metrics are: loss,accuracy,precision,recall,val_loss,val_accuracy,val_precision,val_recall,lr\n"
     ]
    },
    {
     "name": "stdout",
     "output_type": "stream",
     "text": [
      "130/130 [==============================] - 60s 456ms/step - loss: 0.1750 - accuracy: 0.9534 - precision: 0.8776 - recall: 0.9553 - val_loss: 0.3031 - val_accuracy: 0.9169 - val_precision: 0.7470 - val_recall: 0.9921 - lr: 0.0010\n",
      "Epoch 23/30\n",
      "131/130 [==============================] - ETA: 0s - loss: 0.1774 - accuracy: 0.9505 - precision: 0.8757 - recall: 0.9453WARNING:tensorflow:Learning rate reduction is conditioned on metric `val_acc` which is not available. Available metrics are: loss,accuracy,precision,recall,val_loss,val_accuracy,val_precision,val_recall,lr\n"
     ]
    },
    {
     "name": "stderr",
     "output_type": "stream",
     "text": [
      "WARNING:tensorflow:Learning rate reduction is conditioned on metric `val_acc` which is not available. Available metrics are: loss,accuracy,precision,recall,val_loss,val_accuracy,val_precision,val_recall,lr\n"
     ]
    },
    {
     "name": "stdout",
     "output_type": "stream",
     "text": [
      "130/130 [==============================] - 65s 498ms/step - loss: 0.1774 - accuracy: 0.9505 - precision: 0.8757 - recall: 0.9453 - val_loss: 0.2319 - val_accuracy: 0.9484 - val_precision: 0.8419 - val_recall: 0.9684 - lr: 0.0010\n",
      "Epoch 24/30\n",
      "131/130 [==============================] - ETA: 0s - loss: 0.1702 - accuracy: 0.9532 - precision: 0.8763 - recall: 0.9562WARNING:tensorflow:Learning rate reduction is conditioned on metric `val_acc` which is not available. Available metrics are: loss,accuracy,precision,recall,val_loss,val_accuracy,val_precision,val_recall,lr\n"
     ]
    },
    {
     "name": "stderr",
     "output_type": "stream",
     "text": [
      "WARNING:tensorflow:Learning rate reduction is conditioned on metric `val_acc` which is not available. Available metrics are: loss,accuracy,precision,recall,val_loss,val_accuracy,val_precision,val_recall,lr\n"
     ]
    },
    {
     "name": "stdout",
     "output_type": "stream",
     "text": [
      "130/130 [==============================] - 62s 475ms/step - loss: 0.1702 - accuracy: 0.9532 - precision: 0.8763 - recall: 0.9562 - val_loss: 0.2834 - val_accuracy: 0.9140 - val_precision: 0.7390 - val_recall: 0.9960 - lr: 0.0010\n",
      "Epoch 25/30\n",
      "131/130 [==============================] - ETA: 0s - loss: 0.1622 - accuracy: 0.9591 - precision: 0.8950 - recall: 0.9562WARNING:tensorflow:Learning rate reduction is conditioned on metric `val_acc` which is not available. Available metrics are: loss,accuracy,precision,recall,val_loss,val_accuracy,val_precision,val_recall,lr\n"
     ]
    },
    {
     "name": "stderr",
     "output_type": "stream",
     "text": [
      "WARNING:tensorflow:Learning rate reduction is conditioned on metric `val_acc` which is not available. Available metrics are: loss,accuracy,precision,recall,val_loss,val_accuracy,val_precision,val_recall,lr\n"
     ]
    },
    {
     "name": "stdout",
     "output_type": "stream",
     "text": [
      "130/130 [==============================] - 56s 425ms/step - loss: 0.1622 - accuracy: 0.9591 - precision: 0.8950 - recall: 0.9562 - val_loss: 0.1895 - val_accuracy: 0.9580 - val_precision: 0.8828 - val_recall: 0.9526 - lr: 0.0010\n",
      "Epoch 26/30\n",
      "131/130 [==============================] - ETA: 0s - loss: 0.1619 - accuracy: 0.9568 - precision: 0.8914 - recall: 0.9507WARNING:tensorflow:Learning rate reduction is conditioned on metric `val_acc` which is not available. Available metrics are: loss,accuracy,precision,recall,val_loss,val_accuracy,val_precision,val_recall,lr\n"
     ]
    },
    {
     "name": "stderr",
     "output_type": "stream",
     "text": [
      "WARNING:tensorflow:Learning rate reduction is conditioned on metric `val_acc` which is not available. Available metrics are: loss,accuracy,precision,recall,val_loss,val_accuracy,val_precision,val_recall,lr\n"
     ]
    },
    {
     "name": "stdout",
     "output_type": "stream",
     "text": [
      "130/130 [==============================] - 57s 434ms/step - loss: 0.1619 - accuracy: 0.9568 - precision: 0.8914 - recall: 0.9507 - val_loss: 0.1667 - val_accuracy: 0.9589 - val_precision: 0.8750 - val_recall: 0.9684 - lr: 0.0010\n",
      "Epoch 27/30\n",
      "131/130 [==============================] - ETA: 0s - loss: 0.1532 - accuracy: 0.9596 - precision: 0.8958 - recall: 0.9571WARNING:tensorflow:Learning rate reduction is conditioned on metric `val_acc` which is not available. Available metrics are: loss,accuracy,precision,recall,val_loss,val_accuracy,val_precision,val_recall,lr\n"
     ]
    },
    {
     "name": "stderr",
     "output_type": "stream",
     "text": [
      "WARNING:tensorflow:Learning rate reduction is conditioned on metric `val_acc` which is not available. Available metrics are: loss,accuracy,precision,recall,val_loss,val_accuracy,val_precision,val_recall,lr\n"
     ]
    },
    {
     "name": "stdout",
     "output_type": "stream",
     "text": [
      "130/130 [==============================] - 57s 436ms/step - loss: 0.1532 - accuracy: 0.9596 - precision: 0.8958 - recall: 0.9571 - val_loss: 0.1750 - val_accuracy: 0.9589 - val_precision: 0.8723 - val_recall: 0.9723 - lr: 0.0010\n",
      "Epoch 28/30\n",
      "131/130 [==============================] - ETA: 0s - loss: 0.1677 - accuracy: 0.9493 - precision: 0.8733 - recall: 0.9434WARNING:tensorflow:Learning rate reduction is conditioned on metric `val_acc` which is not available. Available metrics are: loss,accuracy,precision,recall,val_loss,val_accuracy,val_precision,val_recall,lr\n"
     ]
    },
    {
     "name": "stderr",
     "output_type": "stream",
     "text": [
      "WARNING:tensorflow:Learning rate reduction is conditioned on metric `val_acc` which is not available. Available metrics are: loss,accuracy,precision,recall,val_loss,val_accuracy,val_precision,val_recall,lr\n"
     ]
    },
    {
     "name": "stdout",
     "output_type": "stream",
     "text": [
      "130/130 [==============================] - 58s 445ms/step - loss: 0.1677 - accuracy: 0.9493 - precision: 0.8733 - recall: 0.9434 - val_loss: 0.2681 - val_accuracy: 0.9255 - val_precision: 0.7760 - val_recall: 0.9723 - lr: 0.0010\n",
      "Epoch 29/30\n",
      "131/130 [==============================] - ETA: 0s - loss: 0.1554 - accuracy: 0.9546 - precision: 0.8788 - recall: 0.9589WARNING:tensorflow:Learning rate reduction is conditioned on metric `val_acc` which is not available. Available metrics are: loss,accuracy,precision,recall,val_loss,val_accuracy,val_precision,val_recall,lr\n"
     ]
    },
    {
     "name": "stderr",
     "output_type": "stream",
     "text": [
      "WARNING:tensorflow:Learning rate reduction is conditioned on metric `val_acc` which is not available. Available metrics are: loss,accuracy,precision,recall,val_loss,val_accuracy,val_precision,val_recall,lr\n"
     ]
    },
    {
     "name": "stdout",
     "output_type": "stream",
     "text": [
      "130/130 [==============================] - 56s 426ms/step - loss: 0.1554 - accuracy: 0.9546 - precision: 0.8788 - recall: 0.9589 - val_loss: 0.2086 - val_accuracy: 0.9456 - val_precision: 0.8203 - val_recall: 0.9921 - lr: 0.0010\n",
      "Epoch 30/30\n",
      "131/130 [==============================] - ETA: 0s - loss: 0.1379 - accuracy: 0.9632 - precision: 0.8998 - recall: 0.9672WARNING:tensorflow:Learning rate reduction is conditioned on metric `val_acc` which is not available. Available metrics are: loss,accuracy,precision,recall,val_loss,val_accuracy,val_precision,val_recall,lr\n"
     ]
    },
    {
     "name": "stderr",
     "output_type": "stream",
     "text": [
      "WARNING:tensorflow:Learning rate reduction is conditioned on metric `val_acc` which is not available. Available metrics are: loss,accuracy,precision,recall,val_loss,val_accuracy,val_precision,val_recall,lr\n"
     ]
    },
    {
     "name": "stdout",
     "output_type": "stream",
     "text": [
      "130/130 [==============================] - 58s 440ms/step - loss: 0.1379 - accuracy: 0.9632 - precision: 0.8998 - recall: 0.9672 - val_loss: 0.4386 - val_accuracy: 0.9035 - val_precision: 0.7147 - val_recall: 1.0000 - lr: 0.0010\n"
     ]
    }
   ],
   "source": [
    "history = model.fit(datagen.flow(x_train,y_train, batch_size = BATCH_SIZE),\n",
    "                    steps_per_epoch=x_train.shape[0]/BATCH_SIZE, \n",
    "                    validation_data = (x_val, y_val),\n",
    "                    validation_steps=x_val.shape[0]/BATCH_SIZE,\n",
    "                    callbacks = CALLBACKS,\n",
    "                    class_weight = weights,\n",
    "                    epochs = 30)"
   ]
  },
  {
   "cell_type": "code",
   "execution_count": 61,
   "metadata": {},
   "outputs": [
    {
     "data": {
      "image/png": "[encoded data removed]",
      "text/plain": [
       "<Figure size 1500x500 with 2 Axes>"
      ]
     },
     "metadata": {},
     "output_type": "display_data"
    }
   ],
   "source": [
    "fig, ax = plt.subplots(1, 2, figsize=(15, 5))\n",
    "ax = ax.ravel()\n",
    "\n",
    "for i, met in enumerate(['accuracy', 'loss']):\n",
    "    ax[i].plot(history.history[met])\n",
    "    ax[i].plot(history.history['val_' + met])\n",
    "    ax[i].set_title('Model {}'.format(met))\n",
    "    ax[i].set_xlabel('epochs')\n",
    "    ax[i].set_ylabel(met)\n",
    "    ax[i].legend(['train', 'val'])"
   ]
  },
  {
   "cell_type": "code",
   "execution_count": 62,
   "metadata": {},
   "outputs": [
    {
     "name": "stdout",
     "output_type": "stream",
     "text": [
      "20/20 [==============================] - 2s 77ms/step - loss: 0.3371 - accuracy: 0.8958 - precision: 0.8314 - recall: 0.9060\n",
      "Loss of the model is -  0.33708006143569946\n",
      "20/20 [==============================] - 1s 72ms/step - loss: 0.3371 - accuracy: 0.8958 - precision: 0.8314 - recall: 0.9060\n",
      "Accuracy of the model is -  89.58333134651184 %\n"
     ]
    }
   ],
   "source": [
    "print(\"Loss of the model is - \" , model.evaluate(x_test,y_test)[0])\n",
    "print(\"Accuracy of the model is - \" , model.evaluate(x_test,y_test)[1]*100 , \"%\")"
   ]
  },
  {
   "cell_type": "code",
   "execution_count": 63,
   "metadata": {},
   "outputs": [
    {
     "name": "stdout",
     "output_type": "stream",
     "text": [
      "20/20 [==============================] - 2s 79ms/step\n"
     ]
    }
   ],
   "source": [
    "predictions = model.predict(x_test)\n",
    "predictions = predictions.reshape(1,-1)[0]\n",
    "predictions[predictions >= 0.5] = 1\n",
    "predictions[predictions < 0.5] = 0"
   ]
  }
 ],
 "metadata": {
  "kernelspec": {
   "display_name": "DataScience",
   "language": "python",
   "name": "python3"
  },
  "language_info": {
   "codemirror_mode": {
    "name": "ipython",
    "version": 3
   },
   "file_extension": ".py",
   "mimetype": "text/x-python",
   "name": "python",
   "nbconvert_exporter": "python",
   "pygments_lexer": "ipython3",
   "version": "3.11.3"
  },
  "orig_nbformat": 4
 },
 "nbformat": 4,
 "nbformat_minor": 2
}
